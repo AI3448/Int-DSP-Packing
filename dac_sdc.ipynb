{
 "cells": [
  {
   "cell_type": "code",
   "execution_count": 1,
   "metadata": {},
   "outputs": [],
   "source": [
    "import sys\n",
    "import os\n",
    "\n",
    "sys.path.append(os.path.abspath(\"../common\"))\n",
    "\n",
    "import math\n",
    "import time\n",
    "import numpy as np\n",
    "from PIL import Image\n",
    "from matplotlib import pyplot\n",
    "import cv2\n",
    "from datetime import datetime\n",
    "import ctypes\n",
    "\n",
    "import pynq\n",
    "import dac_sdc\n",
    "from IPython.display import display\n",
    "from pynq import Clocks\n",
    "\n",
    "from concurrent.futures import ThreadPoolExecutor\n",
    "\n",
    "team_name = 'Seuer_int'\n",
    "team = dac_sdc.Team(team_name)"
   ]
  },
  {
   "cell_type": "code",
   "execution_count": 2,
   "metadata": {},
   "outputs": [
    {
     "data": {
      "application/javascript": [
       "\n",
       "try {\n",
       "require(['notebook/js/codecell'], function(codecell) {\n",
       "  codecell.CodeCell.options_default.highlight_modes[\n",
       "      'magic_text/x-csrc'] = {'reg':[/^%%microblaze/]};\n",
       "  Jupyter.notebook.events.one('kernel_ready.Kernel', function(){\n",
       "      Jupyter.notebook.get_cells().map(function(cell){\n",
       "          if (cell.cell_type == 'code'){ cell.auto_highlight(); } }) ;\n",
       "  });\n",
       "});\n",
       "} catch (e) {};\n"
      ]
     },
     "metadata": {},
     "output_type": "display_data"
    },
    {
     "data": {
      "application/javascript": [
       "\n",
       "try {\n",
       "require(['notebook/js/codecell'], function(codecell) {\n",
       "  codecell.CodeCell.options_default.highlight_modes[\n",
       "      'magic_text/x-csrc'] = {'reg':[/^%%pybind11/]};\n",
       "  Jupyter.notebook.events.one('kernel_ready.Kernel', function(){\n",
       "      Jupyter.notebook.get_cells().map(function(cell){\n",
       "          if (cell.cell_type == 'code'){ cell.auto_highlight(); } }) ;\n",
       "  });\n",
       "});\n",
       "} catch (e) {};\n"
      ]
     },
     "metadata": {},
     "output_type": "display_data"
    },
    {
     "name": "stdout",
     "output_type": "stream",
     "text": [
      "299.997\n",
      "got nn accelerator!\n"
     ]
    }
   ],
   "source": [
    "overlay = pynq.Overlay(team.get_bitstream_path())\n",
    "resize_1b = ctypes.cdll.LoadLibrary(\"./resize_1b.so\")\n",
    "dma = overlay.axi_dma_0\n",
    "nn_ctrl = overlay.ultra_net_0\n",
    "Clocks.fclk0_mhz = 300\n",
    "print(Clocks.fclk0_mhz)\n",
    "print('got nn accelerator!')"
   ]
  },
  {
   "cell_type": "code",
   "execution_count": 4,
   "metadata": {},
   "outputs": [],
   "source": [
    "def load_image_resize(rgb_imgs,buff,bs):\n",
    "    def process_chunk(start, end):\n",
    "        for i in range(start, end):\n",
    "            imgc = rgb_imgs[i].ctypes.data_as(ctypes.c_char_p)\n",
    "            dataptr = buff[i].ctypes.data_as(ctypes.c_char_p)\n",
    "            resize_1b.load_image(imgc, dataptr) \n",
    "            \n",
    "    num_threads = 4\n",
    "    chunk_size = 25\n",
    "    \n",
    "    with ThreadPoolExecutor(max_workers=num_threads) as executor:\n",
    "        futures = [executor.submit(process_chunk, i * chunk_size, (i + 1) * chunk_size)for i in range(num_threads)]\n",
    "        for future in futures: \n",
    "            future.result() "
   ]
  },
  {
   "cell_type": "code",
   "execution_count": 5,
   "metadata": {},
   "outputs": [],
   "source": [
    "BATCH_SIZE = 100\n",
    "BATCH_NUM = 1000 // BATCH_SIZE\n",
    "IMAGE_RAW_ROW = 360\n",
    "IMAGE_RAW_COL = 640\n",
    "IMAGE_ROW = 160\n",
    "IMAGE_COL = 320\n",
    "GRID_ROW = 10\n",
    "GRID_COL = 20\n",
    "X_SCALE = IMAGE_RAW_COL / IMAGE_COL\n",
    "Y_SCALE = IMAGE_RAW_ROW / IMAGE_ROW\n",
    "\n",
    "in_buffer0 = pynq.allocate(shape=(BATCH_SIZE,IMAGE_ROW, IMAGE_COL, 3), dtype=np.uint8)\n",
    "in_buffer1 = pynq.allocate(shape=(BATCH_SIZE,IMAGE_ROW, IMAGE_COL, 3), dtype=np.uint8)\n",
    "in_buffers = [in_buffer0, in_buffer1]\n",
    "out_buffer0 = pynq.allocate(shape=(BATCH_SIZE,GRID_ROW, GRID_COL, 6, 6), dtype=np.int32)\n",
    "out_buffer1 = pynq.allocate(shape=(BATCH_SIZE,GRID_ROW, GRID_COL, 6, 6), dtype=np.int32)\n",
    "out_buffers = [out_buffer0, out_buffer1]\n",
    "\n",
    "def sigmoid(x):\n",
    "    s = 1 / (1 + np.exp(-x))\n",
    "    return s\n",
    "\n",
    "def yolo(out_buffer, batch_n,_, result):\n",
    "    out_buffer_dataptr=out_buffer.ctypes.data_as(ctypes.c_char_p)\n",
    "    rst=np.empty( (batch_n,4),dtype=np.int32)\n",
    "    rst_dataptr=rst.ctypes.data_as(ctypes.c_char_p)\n",
    "    cfuns.yolo(out_buffer_dataptr,batch_n,rst_dataptr)\n",
    "    result.extend(rst.tolist())\n",
    "        \n",
    "def net_signle_batch(rgb_imgs, result):\n",
    "    print(\"Loading image into buffer for DMA transfer\")\n",
    "    for i,(img_path, img) in enumerate(rgb_imgs):\n",
    "        in_buffer[i,:] = img    \n",
    "    print(\"Loading image successfully completed\")\n",
    "    print(\"ACC Starting\")\n",
    "    nn_ctrl.write(0x0, 0)\n",
    "    nn_ctrl.write(0x10, in_buffer.shape[0])\n",
    "    nn_ctrl.write(0x0, 1)\n",
    "    dma.sendchannel.transfer(in_buffer)\n",
    "    dma.recvchannel.transfer(out_buffer)\n",
    "    dma.sendchannel.wait()\n",
    "    dma.recvchannel.wait()\n",
    "    print(\"ACC Ending\")\n",
    "    yolo(out_buffer, BATCH_SIZE, 127 * 15, result)\n",
    "    \n",
    "which_buffer = 0\n",
    "first_batch = True\n",
    "net_cnt = 0\n",
    "\n",
    "def net_pingpong(rgb_imgs, result):\n",
    "\n",
    "    global first_batch\n",
    "    global which_buffer    \n",
    "    global net_cnt\n",
    "    if first_batch == True:\n",
    "        first_batch = False\n",
    "        which_buffer = 0\n",
    "        load_image_resize(rgb_imgs,in_buffers[which_buffer][:],BATCH_SIZE)\n",
    "        return\n",
    "    net_cnt += 1\n",
    "    nn_ctrl.write(0x0, 0)\n",
    "    nn_ctrl.write(0x10, in_buffers[which_buffer].shape[0])\n",
    "    nn_ctrl.write(0x0, 1)\n",
    "    dma.recvchannel.transfer(out_buffers[which_buffer])\n",
    "    if net_cnt == 1:\n",
    "        dma.sendchannel.transfer(in_buffers[which_buffer])\n",
    "\n",
    "    if which_buffer == 0:\n",
    "        which_buffer = 1\n",
    "    else:\n",
    "        which_buffer = 0\n",
    "\n",
    "    if len(rgb_imgs)!=0:\n",
    "        load_image_resize(rgb_imgs,in_buffers[which_buffer][:],BATCH_SIZE)\n",
    "\n",
    "    if net_cnt > 1:\n",
    "        yolo(out_buffers[which_buffer], BATCH_SIZE, 127 * 15, result)\n",
    "\n",
    "        \n",
    "    dma.sendchannel.wait()\n",
    "    if net_cnt!=BATCH_NUM:\n",
    "        dma.sendchannel.transfer(in_buffers[which_buffer])\n",
    "    dma.recvchannel.wait()\n",
    "\n",
    "    if len(rgb_imgs)==0:\n",
    "        yolo(out_buffers[(which_buffer + 1) % 2], BATCH_SIZE, 127 * 15, result) \n"
   ]
  },
  {
   "cell_type": "code",
   "execution_count": 6,
   "metadata": {
    "scrolled": true
   },
   "outputs": [
    {
     "name": "stdout",
     "output_type": "stream",
     "text": [
      "Done all batches. Total runtime = 0.6165785789489746 seconds. Total energy = 1.2138890773057938 J.\n",
      "Savings results to XML...\n",
      "XML results written successfully.\n"
     ]
    }
   ],
   "source": [
    "def my_callback_pingpong(rgb_imgs):\n",
    "    load_cnt = 0\n",
    "    img_locations = []\n",
    "    global first_batch\n",
    "    global which_buffer    \n",
    "    global net_cnt\n",
    "    which_buffer = 0\n",
    "    first_batch = True\n",
    "    net_cnt = 0\n",
    "    while True:\n",
    "        rgb_img_bs = [img for (_, img) in rgb_imgs[BATCH_SIZE*load_cnt:BATCH_SIZE*(load_cnt+1)]]\n",
    "        load_cnt += 1\n",
    "        net_pingpong(rgb_img_bs, img_locations)\n",
    "        if len(rgb_img_bs)==0:\n",
    "            break\n",
    "    return img_locations\n",
    "\n",
    "rails = pynq.get_rails()\n",
    "rails_to_monitor = [\"1V2\", \"PSDDR\", \"INT\"]\n",
    "recorder = pynq.DataRecorder(*[rails[r].power for r in rails_to_monitor])\n",
    "    \n",
    "team.run(my_callback_pingpong, debug=False)"
   ]
  },
  {
   "cell_type": "code",
   "execution_count": 7,
   "metadata": {},
   "outputs": [],
   "source": [
    "del in_buffers\n",
    "del out_buffers"
   ]
  },
  {
   "cell_type": "markdown",
   "metadata": {},
   "source": [
    "##### "
   ]
  }
 ],
 "metadata": {
  "kernelspec": {
   "display_name": "Python 3 (ipykernel)",
   "language": "python",
   "name": "python3"
  },
  "language_info": {
   "codemirror_mode": {
    "name": "ipython",
    "version": 3
   },
   "file_extension": ".py",
   "mimetype": "text/x-python",
   "name": "python",
   "nbconvert_exporter": "python",
   "pygments_lexer": "ipython3",
   "version": "3.10.4"
  }
 },
 "nbformat": 4,
 "nbformat_minor": 4
}
